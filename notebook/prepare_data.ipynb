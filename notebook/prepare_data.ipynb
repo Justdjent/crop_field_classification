{
 "cells": [
  {
   "cell_type": "code",
   "execution_count": 1,
   "metadata": {},
   "outputs": [],
   "source": [
    "import rasterio\n",
    "import rasterio.mask\n",
    "import geopandas as gpd\n",
    "from shapely.geometry import mapping\n",
    "import cv2\n",
    "import numpy as np\n",
    "\n",
    "import rasterio.plot\n",
    "import matplotlib.pyplot as plt\n",
    "%matplotlib inline"
   ]
  },
  {
   "cell_type": "code",
   "execution_count": 2,
   "metadata": {},
   "outputs": [],
   "source": [
    "def normilize(x, x_min, x_max, a=0, b=255):\n",
    "    x[x< x_min] = x_min\n",
    "    x[x>x_max] = x_max\n",
    "    x_norm = (b - a) * ((x - x_min)/(x_max - x_min)) + a\n",
    "    return x_norm"
   ]
  },
  {
   "cell_type": "code",
   "execution_count": 3,
   "metadata": {},
   "outputs": [],
   "source": [
    "norm_dict ={\n",
    "    \"B01\": {'min': 1000,\n",
    "          \"max\":1700},\n",
    "    \"B02\": {'min': 1000,\n",
    "          \"max\":2000},\n",
    "    \"B03\": {'min': 1000,\n",
    "      \"max\":2000},\n",
    "    \"B04\": {'min': 1000,\n",
    "      \"max\":3000},\n",
    "    \"B05\": {'min': 1000,\n",
    "      \"max\":3000},\n",
    "    \"B06\": {'min': 1000,\n",
    "      \"max\":4000},\n",
    "    \"B07\": {'min': 2000,\n",
    "      \"max\":4000},\n",
    "    \"B08\": {'min': 1800,\n",
    "      \"max\":3600},\n",
    "    \"B08A\": {'min': 2000,\n",
    "      \"max\":4000},\n",
    "    \"B09\": {'min': 380,\n",
    "      \"max\":800},\n",
    "    \"B10\": {'min': 10,\n",
    "      \"max\":20},\n",
    "    \"B11\": {'min': 10,\n",
    "      \"max\":20},\n",
    "    \"B11\": {'min': 2000,\n",
    "      \"max\":5000},\n",
    "    \"B12\": {'min': 1000,\n",
    "      \"max\":4000},\n",
    "}"
   ]
  },
  {
   "cell_type": "code",
   "execution_count": 4,
   "metadata": {},
   "outputs": [],
   "source": [
    "train_df = gpd.read_file(\"/home/user/projects/africa_starving/data/train/train/train_repr.geojson\")"
   ]
  },
  {
   "cell_type": "code",
   "execution_count": 5,
   "metadata": {},
   "outputs": [],
   "source": [
    "raster_path = \"/home/user/projects/africa_starving/data/S2A_MSIL1C_20170101T082332_N0204_R121_T34JEP_20170101T084543.SAFE/GRANULE/L1C_T34JEP_A007983_20170101T084543/IMG_DATA/T34JEP_20170101T082332_TCI.jp2\""
   ]
  },
  {
   "cell_type": "code",
   "execution_count": 6,
   "metadata": {},
   "outputs": [],
   "source": [
    "save_path = \"/\".join(raster_path.split(\"/\")[:7]) + 'train_only_crop'"
   ]
  },
  {
   "cell_type": "code",
   "execution_count": 7,
   "metadata": {},
   "outputs": [
    {
     "data": {
      "text/plain": [
       "'/home/user/projects/africa_starving/data/S2A_MSIL1C_20170101T082332_N0204_R121_T34JEP_20170101T084543.SAFEtrain_only_crop'"
      ]
     },
     "execution_count": 7,
     "metadata": {},
     "output_type": "execute_result"
    }
   ],
   "source": [
    "save_path"
   ]
  },
  {
   "cell_type": "code",
   "execution_count": 8,
   "metadata": {},
   "outputs": [],
   "source": [
    "src = rasterio.open(raster_path, 'r')\n",
    "for num, row in train_df.iterrows():\n",
    "    try:\n",
    "        masked_image, out_transform = rasterio.mask.mask(src, [mapping(row['geometry'])], crop=True, nodata=0)\n",
    "        #masked_image = normalize(masked_image, x_min=norm_dict.get(\"B08\").get('min'), x_max=norm_dict.get(\"B08\").get('max'))\n",
    "    except:\n",
    "        continue\n",
    "#     masked_meta = src.meta.copy()\n",
    "#     masked_meta.update({\"driver\": \"GTiff\",\n",
    "#                         \"height\": masked_image.shape[1],\n",
    "#                         \"width\": masked_image.shape[2],\n",
    "#                         \"transform\": out_transform})\n",
    "    break"
   ]
  },
  {
   "cell_type": "code",
   "execution_count": 9,
   "metadata": {},
   "outputs": [],
   "source": [
    "img_to_test = rasterio.plot.reshape_as_image(masked_image)"
   ]
  },
  {
   "cell_type": "code",
   "execution_count": 10,
   "metadata": {},
   "outputs": [],
   "source": [
    "h, w, c = img_to_test.shape"
   ]
  },
  {
   "cell_type": "code",
   "execution_count": 11,
   "metadata": {},
   "outputs": [
    {
     "data": {
      "text/plain": [
       "<matplotlib.image.AxesImage at 0x7febcd748518>"
      ]
     },
     "execution_count": 11,
     "metadata": {},
     "output_type": "execute_result"
    },
    {
     "data": {
      "image/png": "[encoded data removed]",
      "text/plain": [
       "<Figure size 1080x720 with 1 Axes>"
      ]
     },
     "metadata": {},
     "output_type": "display_data"
    }
   ],
   "source": [
    "plt.figure(figsize=(15,10))\n",
    "plt.imshow(img_to_test)"
   ]
  },
  {
   "cell_type": "code",
   "execution_count": 80,
   "metadata": {},
   "outputs": [],
   "source": [
    "def pad_with_gaus(img, pad_size):\n",
    "    h, w, c = img.shape\n",
    "    top = (pad_size - h) // 2\n",
    "    bottom = pad_size - top - h\n",
    "    left = (pad_size - w) // 2\n",
    "    right = pad_size - left - w\n",
    "    out_img=cv2.copyMakeBorder(img, bottom, top, left, right ,cv2.BORDER_CONSTANT, 0)\n",
    "    px_dict = generate_pixel_list(img)\n",
    "    np.random.shuffle(px_dict)\n",
    "    np.place(out_img, out_img == 0, px_dict)\n",
    "    return out_img"
   ]
  },
  {
   "cell_type": "code",
   "execution_count": 103,
   "metadata": {},
   "outputs": [],
   "source": [
    "def pad_with_wrap(img, pad_size):\n",
    "    h, w, c = img.shape\n",
    "    top = (pad_size - h) // 2\n",
    "    bottom = pad_size - top - h\n",
    "    left = (pad_size - w) // 2\n",
    "    right = pad_size - left - w\n",
    "    \n",
    "    px_dict = generate_pixel_list(img)\n",
    "    np.random.shuffle(px_dict)\n",
    "    np.place(img, img == 0, px_dict)\n",
    "    out_img=cv2.copyMakeBorder(img, bottom, top, left, right ,cv2.BORDER_WRAP)\n",
    "    return out_img"
   ]
  },
  {
   "cell_type": "code",
   "execution_count": 81,
   "metadata": {},
   "outputs": [],
   "source": [
    "def generate_pixel_list(inp_image):\n",
    "    pixel_dict = inp_image[np.all(inp_image != 0, axis=-1)]\n",
    "    return pixel_dict"
   ]
  },
  {
   "cell_type": "code",
   "execution_count": 82,
   "metadata": {},
   "outputs": [],
   "source": [
    "out_img_x = pad_with_gaus(img_to_test, 64)"
   ]
  },
  {
   "cell_type": "code",
   "execution_count": 104,
   "metadata": {},
   "outputs": [],
   "source": [
    "out_img_wrap = pad_with_wrap(img_to_test, 64)"
   ]
  },
  {
   "cell_type": "code",
   "execution_count": 83,
   "metadata": {},
   "outputs": [
    {
     "data": {
      "text/plain": [
       "(19, 12, 3)"
      ]
     },
     "execution_count": 83,
     "metadata": {},
     "output_type": "execute_result"
    }
   ],
   "source": [
    "img_to_test.shape"
   ]
  },
  {
   "cell_type": "code",
   "execution_count": 105,
   "metadata": {},
   "outputs": [
    {
     "data": {
      "text/plain": [
       "<matplotlib.image.AxesImage at 0x7febcb16ee80>"
      ]
     },
     "execution_count": 105,
     "metadata": {},
     "output_type": "execute_result"
    },
    {
     "data": {
      "image/png": "[encoded data removed]",
      "text/plain": [
       "<Figure size 720x720 with 1 Axes>"
      ]
     },
     "metadata": {},
     "output_type": "display_data"
    }
   ],
   "source": [
    "plt.figure(figsize=(10,10))\n",
    "plt.imshow(out_img_wrap)"
   ]
  },
  {
   "cell_type": "code",
   "execution_count": 120,
   "metadata": {},
   "outputs": [
    {
     "data": {
      "text/plain": [
       "21"
      ]
     },
     "execution_count": 120,
     "metadata": {},
     "output_type": "execute_result"
    }
   ],
   "source": [
    "np.sum(img_to_test[:, :, 0] == 0)"
   ]
  },
  {
   "cell_type": "code",
   "execution_count": 132,
   "metadata": {},
   "outputs": [],
   "source": [
    "np.place(img_to_test[:, :, 0], img_to_test[:, :, 0] == 0, np.ones(21, dtype=np.uint8))"
   ]
  },
  {
   "cell_type": "code",
   "execution_count": 146,
   "metadata": {},
   "outputs": [
    {
     "data": {
      "text/plain": [
       "array([87, 84, 78], dtype=uint8)"
      ]
     },
     "execution_count": 146,
     "metadata": {},
     "output_type": "execute_result"
    }
   ],
   "source": [
    "img_to_test[10, 10]"
   ]
  },
  {
   "cell_type": "code",
   "execution_count": 100,
   "metadata": {},
   "outputs": [],
   "source": [
    "arr_2 = img_to_test[:, :, 0].flatten()"
   ]
  },
  {
   "cell_type": "code",
   "execution_count": 106,
   "metadata": {},
   "outputs": [
    {
     "data": {
      "text/plain": [
       "207"
      ]
     },
     "execution_count": 106,
     "metadata": {},
     "output_type": "execute_result"
    }
   ],
   "source": [
    "np.count_nonzero(arr_2)"
   ]
  },
  {
   "cell_type": "code",
   "execution_count": 108,
   "metadata": {},
   "outputs": [
    {
     "data": {
      "text/plain": [
       "21"
      ]
     },
     "execution_count": 108,
     "metadata": {},
     "output_type": "execute_result"
    }
   ],
   "source": [
    "np.sum(arr_2 == 0)"
   ]
  },
  {
   "cell_type": "code",
   "execution_count": 99,
   "metadata": {},
   "outputs": [
    {
     "data": {
      "text/plain": [
       "(array([26., 53., 47., 42., 14., 12.,  5.,  5.,  2.,  1.]),\n",
       " array([ 62. ,  68.2,  74.4,  80.6,  86.8,  93. ,  99.2, 105.4, 111.6,\n",
       "        117.8, 124. ]),\n",
       " <a list of 10 Patch objects>)"
      ]
     },
     "execution_count": 99,
     "metadata": {},
     "output_type": "execute_result"
    },
    {
     "data": {
      "image/png": "[encoded data removed]",
      "text/plain": [
       "<Figure size 432x288 with 1 Axes>"
      ]
     },
     "metadata": {},
     "output_type": "display_data"
    }
   ],
   "source": [
    "arr_x = img_to_test[:, :, 0].flatten()\n",
    "arr_x = arr_x[arr_x != 0]\n",
    "plt.hist(arr_x)"
   ]
  },
  {
   "cell_type": "code",
   "execution_count": 97,
   "metadata": {},
   "outputs": [
    {
     "data": {
      "text/plain": [
       "{'boxes': [<matplotlib.lines.Line2D at 0x7fc2553ad320>],\n",
       " 'caps': [<matplotlib.lines.Line2D at 0x7fc2553add30>,\n",
       "  <matplotlib.lines.Line2D at 0x7fc2553b7198>],\n",
       " 'fliers': [<matplotlib.lines.Line2D at 0x7fc2553b79e8>],\n",
       " 'means': [],\n",
       " 'medians': [<matplotlib.lines.Line2D at 0x7fc2553b75c0>],\n",
       " 'whiskers': [<matplotlib.lines.Line2D at 0x7fc2553ad470>,\n",
       "  <matplotlib.lines.Line2D at 0x7fc2553ad908>]}"
      ]
     },
     "execution_count": 97,
     "metadata": {},
     "output_type": "execute_result"
    },
    {
     "data": {
      "image/png": "[encoded data removed]",
      "text/plain": [
       "<Figure size 432x288 with 1 Axes>"
      ]
     },
     "metadata": {},
     "output_type": "display_data"
    }
   ],
   "source": []
  },
  {
   "cell_type": "code",
   "execution_count": 100,
   "metadata": {},
   "outputs": [],
   "source": [
    "needed = 64\n",
    "top = (needed - h) // 2\n",
    "bottom = needed - top - h\n",
    "left = (needed - w) // 2\n",
    "right = needed - left - w\n",
    "constant=cv2.copyMakeBorder(img_to_test,bottom, top, left, right ,cv2.BORDER_WRAP)"
   ]
  },
  {
   "cell_type": "code",
   "execution_count": 101,
   "metadata": {},
   "outputs": [
    {
     "data": {
      "text/plain": [
       "(64, 64, 3)"
      ]
     },
     "execution_count": 101,
     "metadata": {},
     "output_type": "execute_result"
    }
   ],
   "source": [
    "constant.shape"
   ]
  },
  {
   "cell_type": "code",
   "execution_count": 102,
   "metadata": {},
   "outputs": [
    {
     "data": {
      "text/plain": [
       "<matplotlib.image.AxesImage at 0x7febcb1ba0f0>"
      ]
     },
     "execution_count": 102,
     "metadata": {},
     "output_type": "execute_result"
    },
    {
     "data": {
      "image/png": "[encoded data removed]",
      "text/plain": [
       "<Figure size 432x288 with 1 Axes>"
      ]
     },
     "metadata": {},
     "output_type": "display_data"
    }
   ],
   "source": [
    "plt.imshow(constant)"
   ]
  },
  {
   "cell_type": "code",
   "execution_count": 41,
   "metadata": {},
   "outputs": [],
   "source": [
    "x_nirm = normilize(masked_image, x_min=norm_dict.get(\"B08\").get('min'), x_max=norm_dict.get(\"B08\").get('max'))"
   ]
  },
  {
   "cell_type": "code",
   "execution_count": 42,
   "metadata": {},
   "outputs": [
    {
     "data": {
      "text/plain": [
       "240.83333333333331"
      ]
     },
     "execution_count": 42,
     "metadata": {},
     "output_type": "execute_result"
    }
   ],
   "source": [
    "x_nirm.max()"
   ]
  },
  {
   "cell_type": "code",
   "execution_count": 35,
   "metadata": {},
   "outputs": [
    {
     "data": {
      "text/plain": [
       "1800"
      ]
     },
     "execution_count": 35,
     "metadata": {},
     "output_type": "execute_result"
    }
   ],
   "source": [
    "norm_dict.get(\"B08\").get('min')"
   ]
  },
  {
   "cell_type": "code",
   "execution_count": 36,
   "metadata": {},
   "outputs": [
    {
     "data": {
      "text/plain": [
       "3600"
      ]
     },
     "execution_count": 36,
     "metadata": {},
     "output_type": "execute_result"
    }
   ],
   "source": [
    "norm_dict.get(\"B08\").get('max')"
   ]
  },
  {
   "cell_type": "code",
   "execution_count": 8,
   "metadata": {},
   "outputs": [
    {
     "data": {
      "text/plain": [
       "{'init': 'epsg:32734'}"
      ]
     },
     "execution_count": 8,
     "metadata": {},
     "output_type": "execute_result"
    }
   ],
   "source": [
    "train_df.crs"
   ]
  },
  {
   "cell_type": "code",
   "execution_count": 9,
   "metadata": {},
   "outputs": [
    {
     "data": {
      "text/plain": [
       "CRS({'init': 'epsg:32734'})"
      ]
     },
     "execution_count": 9,
     "metadata": {},
     "output_type": "execute_result"
    }
   ],
   "source": [
    "src.crs"
   ]
  },
  {
   "cell_type": "code",
   "execution_count": 43,
   "metadata": {},
   "outputs": [
    {
     "data": {
      "text/plain": [
       "<matplotlib.image.AxesImage at 0x7f30cf9eed30>"
      ]
     },
     "execution_count": 43,
     "metadata": {},
     "output_type": "execute_result"
    },
    {
     "data": {
      "image/png": "[encoded data removed]",
      "text/plain": [
       "<Figure size 432x288 with 1 Axes>"
      ]
     },
     "metadata": {},
     "output_type": "display_data"
    }
   ],
   "source": [
    "plt.imshow(x_nirm[0])"
   ]
  },
  {
   "cell_type": "code",
   "execution_count": 20,
   "metadata": {},
   "outputs": [
    {
     "data": {
      "text/plain": [
       "2835"
      ]
     },
     "execution_count": 20,
     "metadata": {},
     "output_type": "execute_result"
    }
   ],
   "source": [
    "masked_image.max()"
   ]
  },
  {
   "cell_type": "code",
   "execution_count": 21,
   "metadata": {},
   "outputs": [
    {
     "data": {
      "text/plain": [
       "2835"
      ]
     },
     "execution_count": 21,
     "metadata": {},
     "output_type": "execute_result"
    }
   ],
   "source": [
    "masked_image.max()"
   ]
  },
  {
   "cell_type": "code",
   "execution_count": null,
   "metadata": {},
   "outputs": [],
   "source": []
  }
 ],
 "metadata": {
  "kernelspec": {
   "display_name": "Python 3",
   "language": "python",
   "name": "python3"
  },
  "language_info": {
   "codemirror_mode": {
    "name": "ipython",
    "version": 3
   },
   "file_extension": ".py",
   "mimetype": "text/x-python",
   "name": "python",
   "nbconvert_exporter": "python",
   "pygments_lexer": "ipython3",
   "version": "3.5.2"
  }
 },
 "nbformat": 4,
 "nbformat_minor": 2
}
