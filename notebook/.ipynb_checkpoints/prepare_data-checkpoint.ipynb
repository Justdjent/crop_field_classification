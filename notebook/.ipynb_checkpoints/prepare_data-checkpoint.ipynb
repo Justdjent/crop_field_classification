{
 "cells": [
  {
   "cell_type": "code",
   "execution_count": 1,
   "metadata": {},
   "outputs": [],
   "source": [
    "import rasterio\n",
    "import rasterio.mask\n",
    "import geopandas as gpd\n",
    "from shapely.geometry import mapping\n",
    "\n",
    "import matplotlib.pyplot as plt\n",
    "%matplotlib inline"
   ]
  },
  {
   "cell_type": "code",
   "execution_count": 40,
   "metadata": {},
   "outputs": [],
   "source": [
    "def normilize(x, x_min, x_max, a=0, b=255):\n",
    "    x[x< x_min] = x_min\n",
    "    x[x>x_max] = x_max\n",
    "    x_norm = (b - a) * ((x - x_min)/(x_max - x_min)) + a\n",
    "    return x_norm"
   ]
  },
  {
   "cell_type": "code",
   "execution_count": 15,
   "metadata": {},
   "outputs": [],
   "source": [
    "norm_dict ={\n",
    "    \"B01\": {'min': 1000,\n",
    "          \"max\":1700},\n",
    "    \"B02\": {'min': 1000,\n",
    "          \"max\":2000},\n",
    "    \"B03\": {'min': 1000,\n",
    "      \"max\":2000},\n",
    "    \"B04\": {'min': 1000,\n",
    "      \"max\":3000},\n",
    "    \"B05\": {'min': 1000,\n",
    "      \"max\":3000},\n",
    "    \"B06\": {'min': 1000,\n",
    "      \"max\":4000},\n",
    "    \"B07\": {'min': 2000,\n",
    "      \"max\":4000},\n",
    "    \"B08\": {'min': 1800,\n",
    "      \"max\":3600},\n",
    "    \"B08A\": {'min': 2000,\n",
    "      \"max\":4000},\n",
    "    \"B09\": {'min': 380,\n",
    "      \"max\":800},\n",
    "    \"B10\": {'min': 10,\n",
    "      \"max\":20},\n",
    "    \"B11\": {'min': 10,\n",
    "      \"max\":20},\n",
    "    \"B11\": {'min': 2000,\n",
    "      \"max\":5000},\n",
    "    \"B12\": {'min': 1000,\n",
    "      \"max\":4000},\n",
    "}"
   ]
  },
  {
   "cell_type": "code",
   "execution_count": 2,
   "metadata": {},
   "outputs": [],
   "source": [
    "train_df = gpd.read_file(\"/home/user/projects/africa_starving/data/train/train/train_repr.geojson\")"
   ]
  },
  {
   "cell_type": "code",
   "execution_count": 6,
   "metadata": {},
   "outputs": [],
   "source": [
    "raster_path = \"/home/user/projects/africa_starving/data/S2A_MSIL1C_20170101T082332_N0204_R121_T34JEP_20170101T084543.SAFE/GRANULE/L1C_T34JEP_A007983_20170101T084543/IMG_DATA/T34JEP_20170101T082332_B08.jp2\""
   ]
  },
  {
   "cell_type": "code",
   "execution_count": 49,
   "metadata": {},
   "outputs": [
    {
     "data": {
      "text/plain": [
       "['',\n",
       " 'home',\n",
       " 'user',\n",
       " 'projects',\n",
       " 'africa_starving',\n",
       " 'data',\n",
       " 'S2A_MSIL1C_20170101T082332_N0204_R121_T34JEP_20170101T084543.SAFE']"
      ]
     },
     "execution_count": 49,
     "metadata": {},
     "output_type": "execute_result"
    }
   ],
   "source": [
    "save_path = raster_path.split(\"/\")[:7] + 'train_only_crop'"
   ]
  },
  {
   "cell_type": "code",
   "execution_count": 33,
   "metadata": {},
   "outputs": [],
   "source": [
    "src = rasterio.open(raster_path, 'r')\n",
    "for num, row in train_df.iterrows():\n",
    "    try:\n",
    "        masked_image, out_transform = rasterio.mask.mask(src, [mapping(row['geometry'])], crop=True, nodata=0)\n",
    "        #masked_image = normalize(masked_image, x_min=norm_dict.get(\"B08\").get('min'), x_max=norm_dict.get(\"B08\").get('max'))\n",
    "    except:\n",
    "        continue\n",
    "#     masked_meta = src.meta.copy()\n",
    "#     masked_meta.update({\"driver\": \"GTiff\",\n",
    "#                         \"height\": masked_image.shape[1],\n",
    "#                         \"width\": masked_image.shape[2],\n",
    "#                         \"transform\": out_transform})\n",
    "    break"
   ]
  },
  {
   "cell_type": "code",
   "execution_count": 41,
   "metadata": {},
   "outputs": [],
   "source": [
    "x_nirm = normilize(masked_image, x_min=norm_dict.get(\"B08\").get('min'), x_max=norm_dict.get(\"B08\").get('max'))"
   ]
  },
  {
   "cell_type": "code",
   "execution_count": 42,
   "metadata": {},
   "outputs": [
    {
     "data": {
      "text/plain": [
       "240.83333333333331"
      ]
     },
     "execution_count": 42,
     "metadata": {},
     "output_type": "execute_result"
    }
   ],
   "source": [
    "x_nirm.max()"
   ]
  },
  {
   "cell_type": "code",
   "execution_count": 35,
   "metadata": {},
   "outputs": [
    {
     "data": {
      "text/plain": [
       "1800"
      ]
     },
     "execution_count": 35,
     "metadata": {},
     "output_type": "execute_result"
    }
   ],
   "source": [
    "norm_dict.get(\"B08\").get('min')"
   ]
  },
  {
   "cell_type": "code",
   "execution_count": 36,
   "metadata": {},
   "outputs": [
    {
     "data": {
      "text/plain": [
       "3600"
      ]
     },
     "execution_count": 36,
     "metadata": {},
     "output_type": "execute_result"
    }
   ],
   "source": [
    "norm_dict.get(\"B08\").get('max')"
   ]
  },
  {
   "cell_type": "code",
   "execution_count": 8,
   "metadata": {},
   "outputs": [
    {
     "data": {
      "text/plain": [
       "{'init': 'epsg:32734'}"
      ]
     },
     "execution_count": 8,
     "metadata": {},
     "output_type": "execute_result"
    }
   ],
   "source": [
    "train_df.crs"
   ]
  },
  {
   "cell_type": "code",
   "execution_count": 9,
   "metadata": {},
   "outputs": [
    {
     "data": {
      "text/plain": [
       "CRS({'init': 'epsg:32734'})"
      ]
     },
     "execution_count": 9,
     "metadata": {},
     "output_type": "execute_result"
    }
   ],
   "source": [
    "src.crs"
   ]
  },
  {
   "cell_type": "code",
   "execution_count": 43,
   "metadata": {},
   "outputs": [
    {
     "data": {
      "text/plain": [
       "<matplotlib.image.AxesImage at 0x7f30cf9eed30>"
      ]
     },
     "execution_count": 43,
     "metadata": {},
     "output_type": "execute_result"
    },
    {
     "data": {
      "image/png": "[encoded data removed]",
      "text/plain": [
       "<Figure size 432x288 with 1 Axes>"
      ]
     },
     "metadata": {},
     "output_type": "display_data"
    }
   ],
   "source": [
    "plt.imshow(x_nirm[0])"
   ]
  },
  {
   "cell_type": "code",
   "execution_count": 20,
   "metadata": {},
   "outputs": [
    {
     "data": {
      "text/plain": [
       "2835"
      ]
     },
     "execution_count": 20,
     "metadata": {},
     "output_type": "execute_result"
    }
   ],
   "source": [
    "masked_image.max()"
   ]
  },
  {
   "cell_type": "code",
   "execution_count": 21,
   "metadata": {},
   "outputs": [
    {
     "data": {
      "text/plain": [
       "2835"
      ]
     },
     "execution_count": 21,
     "metadata": {},
     "output_type": "execute_result"
    }
   ],
   "source": [
    "masked_image.max()"
   ]
  },
  {
   "cell_type": "code",
   "execution_count": null,
   "metadata": {},
   "outputs": [],
   "source": []
  }
 ],
 "metadata": {
  "kernelspec": {
   "display_name": "Python 3",
   "language": "python",
   "name": "python3"
  },
  "language_info": {
   "codemirror_mode": {
    "name": "ipython",
    "version": 3
   },
   "file_extension": ".py",
   "mimetype": "text/x-python",
   "name": "python",
   "nbconvert_exporter": "python",
   "pygments_lexer": "ipython3",
   "version": "3.5.2"
  }
 },
 "nbformat": 4,
 "nbformat_minor": 2
}
